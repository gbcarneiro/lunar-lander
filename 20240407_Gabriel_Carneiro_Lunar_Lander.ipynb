{
  "nbformat": 4,
  "nbformat_minor": 0,
  "metadata": {
    "colab": {
      "provenance": [],
      "authorship_tag": "ABX9TyNVjqj4QoUdfDvZ+QGwcz6s",
      "include_colab_link": true
    },
    "kernelspec": {
      "name": "python3",
      "display_name": "Python 3"
    },
    "language_info": {
      "name": "python"
    }
  },
  "cells": [
    {
      "cell_type": "markdown",
      "metadata": {
        "id": "view-in-github",
        "colab_type": "text"
      },
      "source": [
        "<a href=\"https://colab.research.google.com/github/gbcarneiro/lunar-lander/blob/main/20240407_Gabriel_Carneiro_Lunar_Lander.ipynb\" target=\"_parent\"><img src=\"https://colab.research.google.com/assets/colab-badge.svg\" alt=\"Open In Colab\"/></a>"
      ]
    },
    {
      "cell_type": "code",
      "execution_count": 1,
      "metadata": {
        "colab": {
          "base_uri": "https://localhost:8080/"
        },
        "id": "9Tm6mmnE4wRc",
        "outputId": "ff46be61-fbd0-4858-dcc9-97a8a3300ff0"
      },
      "outputs": [
        {
          "output_type": "stream",
          "name": "stdout",
          "text": [
            "Collecting swig\n",
            "  Downloading swig-4.2.1-py2.py3-none-manylinux_2_5_x86_64.manylinux1_x86_64.whl (1.9 MB)\n",
            "\u001b[2K     \u001b[90m━━━━━━━━━━━━━━━━━━━━━━━━━━━━━━━━━━━━━━━━\u001b[0m \u001b[32m1.9/1.9 MB\u001b[0m \u001b[31m13.9 MB/s\u001b[0m eta \u001b[36m0:00:00\u001b[0m\n",
            "\u001b[?25hInstalling collected packages: swig\n",
            "Successfully installed swig-4.2.1\n"
          ]
        }
      ],
      "source": [
        "pip install swig"
      ]
    },
    {
      "cell_type": "code",
      "source": [
        "pip install gym[box2d]"
      ],
      "metadata": {
        "colab": {
          "base_uri": "https://localhost:8080/"
        },
        "id": "TwS_DAm05SzU",
        "outputId": "0df4d9e2-6233-42bb-b8fa-d1d45ee2cee9"
      },
      "execution_count": 2,
      "outputs": [
        {
          "output_type": "stream",
          "name": "stdout",
          "text": [
            "Requirement already satisfied: gym[box2d] in /usr/local/lib/python3.10/dist-packages (0.25.2)\n",
            "Requirement already satisfied: numpy>=1.18.0 in /usr/local/lib/python3.10/dist-packages (from gym[box2d]) (1.25.2)\n",
            "Requirement already satisfied: cloudpickle>=1.2.0 in /usr/local/lib/python3.10/dist-packages (from gym[box2d]) (2.2.1)\n",
            "Requirement already satisfied: gym-notices>=0.0.4 in /usr/local/lib/python3.10/dist-packages (from gym[box2d]) (0.0.8)\n",
            "Collecting box2d-py==2.3.5 (from gym[box2d])\n",
            "  Downloading box2d-py-2.3.5.tar.gz (374 kB)\n",
            "\u001b[2K     \u001b[90m━━━━━━━━━━━━━━━━━━━━━━━━━━━━━━━━━━━━━━━━\u001b[0m \u001b[32m374.4/374.4 kB\u001b[0m \u001b[31m4.3 MB/s\u001b[0m eta \u001b[36m0:00:00\u001b[0m\n",
            "\u001b[?25h  Preparing metadata (setup.py) ... \u001b[?25l\u001b[?25hdone\n",
            "Collecting pygame==2.1.0 (from gym[box2d])\n",
            "  Downloading pygame-2.1.0-cp310-cp310-manylinux_2_17_x86_64.manylinux2014_x86_64.whl (18.3 MB)\n",
            "\u001b[2K     \u001b[90m━━━━━━━━━━━━━━━━━━━━━━━━━━━━━━━━━━━━━━━━\u001b[0m \u001b[32m18.3/18.3 MB\u001b[0m \u001b[31m23.5 MB/s\u001b[0m eta \u001b[36m0:00:00\u001b[0m\n",
            "\u001b[?25hRequirement already satisfied: swig==4.* in /usr/local/lib/python3.10/dist-packages (from gym[box2d]) (4.2.1)\n",
            "Building wheels for collected packages: box2d-py\n",
            "  Building wheel for box2d-py (setup.py) ... \u001b[?25l\u001b[?25hdone\n",
            "  Created wheel for box2d-py: filename=box2d_py-2.3.5-cp310-cp310-linux_x86_64.whl size=2376096 sha256=8cf192e7f8f2e53f39fe9cb5184d018ed043b940188cf4705674238f77f35fbd\n",
            "  Stored in directory: /root/.cache/pip/wheels/db/8f/6a/eaaadf056fba10a98d986f6dce954e6201ba3126926fc5ad9e\n",
            "Successfully built box2d-py\n",
            "Installing collected packages: box2d-py, pygame\n",
            "  Attempting uninstall: pygame\n",
            "    Found existing installation: pygame 2.5.2\n",
            "    Uninstalling pygame-2.5.2:\n",
            "      Successfully uninstalled pygame-2.5.2\n",
            "Successfully installed box2d-py-2.3.5 pygame-2.1.0\n"
          ]
        }
      ]
    },
    {
      "cell_type": "markdown",
      "source": [
        "Importando as bibliotecas do gym"
      ],
      "metadata": {
        "id": "TnYs-zF6x3BQ"
      }
    },
    {
      "cell_type": "code",
      "source": [
        "import gym\n",
        "import numpy as np\n",
        "import torch\n",
        "import torch.nn as nn\n",
        "import torch.nn.functional as F\n",
        "import torch.optim as optim\n",
        "import matplotlib.pyplot as plt\n",
        "from collections import deque, namedtuple\n",
        "import random\n",
        "\n"
      ],
      "metadata": {
        "id": "TfQ31dKZc6u7"
      },
      "execution_count": 9,
      "outputs": []
    },
    {
      "cell_type": "markdown",
      "source": [
        "Implementando o Q-Learning"
      ],
      "metadata": {
        "id": "4lebedoIyDxb"
      }
    },
    {
      "cell_type": "code",
      "source": [
        "\n",
        "# Definição de hiperparâmetros\n",
        "TAMANHO_BUFFER = int(1e5)  # tamanho do buffer de replay\n",
        "TAMANHO_BATCH = 64         # tamanho do batch\n",
        "GAMMA = 0.99               # fator de desconto\n",
        "TAU = 1e-3                 # parâmetro para atualização suave dos parâmetros da rede alvo\n",
        "LR = 5e-4                  # taxa de aprendizado\n",
        "UPDATE_EVERY = 4           # frequência de atualização da rede\n",
        "\n",
        "# Define o dispositivo para treinamento (cuda ou cpu)\n",
        "dispositivo = torch.device(\"cuda:0\" if torch.cuda.is_available() else \"cpu\")\n",
        "\n",
        "\n",
        "# Definição da rede neural para Q-Learning\n",
        "class QNetwork(nn.Module):\n",
        "  def __init__(self, tamanho_estado, tamanho_acao, seed):\n",
        "    super(QNetwork, self).__init__()\n",
        "    self.seed = torch.manual_seed(seed)\n",
        "\n",
        "    # Definição das camadas\n",
        "    self.fc1 = nn.Linear(tamanho_estado, 64)\n",
        "    self.fc2 = nn.Linear(64, 64)\n",
        "    self.fc3 = nn.Linear(64, tamanho_acao)\n",
        "\n",
        "  def forward(self, x):\n",
        "    x = F.relu(self.fc1(x))\n",
        "    x = F.relu(self.fc2(x))\n",
        "    return self.fc3(x)\n",
        "\n",
        "# Implementação do Replay Buffer\n",
        "class ReplayBuffer:\n",
        "  def __init__(self, tamanho_buffer, tamanho_batch, seed):\n",
        "    self.memoria = deque(maxlen=tamanho_buffer)\n",
        "    self.tamanho_batch = tamanho_batch\n",
        "    self.experiencia = namedtuple(\"Experiencia\", field_names=[\"estado\", \"acao\", \"recompensa\", \"proximo_estado\", \"finalizado\"])\n",
        "    self.seed = random.seed(seed)\n",
        "\n",
        "  def add(self, estado, acao, recompensa, proximo_estado, finalizado):\n",
        "    e = self.experiencia(estado, acao, recompensa, proximo_estado, finalizado)\n",
        "    self.memoria.append(e)\n",
        "\n",
        "  def sample(self):\n",
        "    experiencias = random.sample(self.memoria, k=self.tamanho_batch)\n",
        "\n",
        "    estados = torch.from_numpy(np.vstack([e.estado for e in experiencias if e is not None])).float().to(dispositivo)\n",
        "    acoes = torch.from_numpy(np.vstack([e.acao for e in experiencias if e is not None])).long().to(dispositivo)\n",
        "    recompensas = torch.from_numpy(np.vstack([e.recompensa for e in experiencias if e is not None])).float().to(dispositivo)\n",
        "    proximos_estados = torch.from_numpy(np.vstack([e.proximo_estado for e in experiencias if e is not None])).float().to(dispositivo)\n",
        "    finalizados = torch.from_numpy(np.vstack([e.finalizado for e in experiencias if e is not None]).astype(np.uint8)).float().to(dispositivo)\n",
        "\n",
        "    return (estados, acoes, recompensas, proximos_estados, finalizados)\n",
        "\n",
        "  def __len__(self):\n",
        "    return len(self.memoria)\n",
        "\n",
        "# Implementação do Agente DQN\n",
        "class DQNAgent:\n",
        "  def __init__(self, tamanho_estado, tamanho_acao, seed):\n",
        "      self.tamanho_estado = tamanho_estado\n",
        "      self.tamanho_acao = tamanho_acao\n",
        "      self.seed = random.seed(seed)\n",
        "\n",
        "      # Redes Q e Q fixa\n",
        "      self.rede_local = QNetwork(tamanho_estado, tamanho_acao, seed).to(dispositivo)\n",
        "      self.rede_alvo = QNetwork(tamanho_estado, tamanho_acao, seed).to(dispositivo)\n",
        "      self.otimizador = optim.Adam(self.rede_local.parameters(), lr=LR)\n",
        "\n",
        "      # Replay memory\n",
        "      self.memoria = ReplayBuffer(TAMANHO_BUFFER, TAMANHO_BATCH, seed)\n",
        "      # Contador de tempo\n",
        "      self.t_passo = 0\n",
        "\n",
        "  def atualizar_rede_fixa(self):\n",
        "    for parametro_alvo, parametro_local in zip(self.rede_alvo.parameters(), self.rede_local.parameters()):\n",
        "      parametro_alvo.data.copy_(TAU * parametro_local.data + (1.0 - TAU) * parametro_alvo.data)\n",
        "\n",
        "  def step(self, estado, acao, recompensa, proximo_estado, finalizado):\n",
        "    # Salva a experiência no buffer de replay\n",
        "    self.memoria.add(estado, acao, recompensa, proximo_estado, finalizado)\n",
        "\n",
        "    # Aprende a cada UPDATE_EVERY passos de tempo\n",
        "    self.t_passo = (self.t_passo + 1) % UPDATE_EVERY\n",
        "\n",
        "    if self.t_passo == 0:\n",
        "\n",
        "      # Se houver amostras suficientes, obtém uma amostra aleatória do buffer de replay\n",
        "      if len(self.memoria) > TAMANHO_BATCH:\n",
        "        experiencias = self.memoria.sample()\n",
        "        self.learn(experiencias, GAMMA)\n",
        "\n",
        "  def learn(self, experiencias, gamma):\n",
        "    estados, acoes, recompensas, proximos_estados, finalizados = experiencias\n",
        "\n",
        "    # Obtém os Q valores máximos para os próximos estados da rede fixa\n",
        "    Q_alvos_proximos = self.rede_alvo(proximos_estados).detach().max(1)[0].unsqueeze(1)\n",
        "    # Calcula os Q targets para os estados atuais\n",
        "    Q_alvos = recompensas + (gamma * Q_alvos_proximos * (1 - finalizados))\n",
        "\n",
        "    # Obtém os Q valores esperados dos estados atuais da rede local\n",
        "    Q_esperados = self.rede_local(estados).gather(1, acoes)\n",
        "\n",
        "    # Computa a perda\n",
        "    perda = F.mse_loss(Q_esperados, Q_alvos)\n",
        "\n",
        "    # Minimiza a perda\n",
        "    self.otimizador.zero_grad()\n",
        "    perda.backward()\n",
        "    self.otimizador.step()\n",
        "\n",
        "    # Atualiza os pesos da rede fixa\n",
        "    self.atualizar_rede_fixa()\n",
        "\n",
        "  def act(self, estado, eps=0.0):\n",
        "    estado = torch.from_numpy(estado).float().unsqueeze(0).to(dispositivo)\n",
        "    self.rede_local.eval()\n",
        "\n",
        "    with torch.no_grad():\n",
        "        valores_acao = self.rede_local(estado)\n",
        "\n",
        "    self.rede_local.train()\n",
        "\n",
        "    # Seleciona a ação com base na política epsilon-greedy\n",
        "    if random.random() > eps:\n",
        "      return np.argmax(valores_acao.cpu().data.numpy())\n",
        "\n",
        "    else:\n",
        "      return random.choice(np.arange(self.tamanho_acao))\n",
        "\n",
        "# Configurações do ambiente e criação do agente\n",
        "env = gym.make('LunarLander-v2')\n",
        "env.seed(0)\n",
        "tamanho_estado = env.observation_space.shape[0]\n",
        "tamanho_acao = env.action_space.n\n",
        "\n",
        "# Criando o agente\n",
        "agente = DQNAgent(tamanho_estado, tamanho_acao, seed=0)"
      ],
      "metadata": {
        "colab": {
          "base_uri": "https://localhost:8080/"
        },
        "id": "X3itzNhIyyeD",
        "outputId": "76c90685-99b3-4112-e42b-79ef5ac36f8a"
      },
      "execution_count": 34,
      "outputs": [
        {
          "output_type": "stream",
          "name": "stderr",
          "text": [
            "/usr/local/lib/python3.10/dist-packages/gym/core.py:317: DeprecationWarning: \u001b[33mWARN: Initializing wrapper in old step API which returns one bool instead of two. It is recommended to set `new_step_api=True` to use new step API. This will be the default behaviour in future.\u001b[0m\n",
            "  deprecation(\n",
            "/usr/local/lib/python3.10/dist-packages/gym/wrappers/step_api_compatibility.py:39: DeprecationWarning: \u001b[33mWARN: Initializing environment in old step API which returns one bool instead of two. It is recommended to set `new_step_api=True` to use new step API. This will be the default behaviour in future.\u001b[0m\n",
            "  deprecation(\n",
            "/usr/local/lib/python3.10/dist-packages/gym/core.py:256: DeprecationWarning: \u001b[33mWARN: Function `env.seed(seed)` is marked as deprecated and will be removed in the future. Please use `env.reset(seed=seed)` instead.\u001b[0m\n",
            "  deprecation(\n"
          ]
        }
      ]
    },
    {
      "cell_type": "code",
      "source": [
        "def treinar_agente(n_episodios=1000, max_t=500, eps_inicio=1.0, eps_fim=0.01, eps_decaimento=0.995):\n",
        "  pontuacoes = []                           # lista para armazenar as pontuações de cada episódio\n",
        "  pontuacoes_janela = deque(maxlen=100)     # mantém as últimas 100 pontuações\n",
        "  eps = eps_inicio                          # inicializa o valor de epsilon\n",
        "\n",
        "  for i_episodio in range(1, n_episodios+1):\n",
        "    estado = env.reset()\n",
        "    pontuacao = 0\n",
        "\n",
        "    for t in range(max_t):\n",
        "      acao = agente.act(estado, eps)\n",
        "      proximo_estado, recompensa, finalizado, _ = env.step(acao)\n",
        "\n",
        "      agente.step(estado, acao, recompensa, proximo_estado, finalizado)\n",
        "\n",
        "      estado = proximo_estado\n",
        "      pontuacao += recompensa\n",
        "\n",
        "      if finalizado:\n",
        "        break\n",
        "\n",
        "    pontuacoes_janela.append(pontuacao)       # salva a pontuação mais recente\n",
        "    pontuacoes.append(pontuacao)              # salva a pontuação do episódio\n",
        "    eps = max(eps_fim, eps_decaimento*eps)    # reduz epsilon\n",
        "\n",
        "    print('\\rEpisódio {}\\tMédia (últimos 100): {:.2f}'.format(i_episodio, np.mean(pontuacoes_janela)), end=\"\")\n",
        "\n",
        "    if i_episodio % 100 == 0:\n",
        "      print('\\rEpisódio {}\\tMédia (últimos 100): {:.2f}'.format(i_episodio, np.mean(pontuacoes_janela)))\n",
        "\n",
        "    if np.mean(pontuacoes_janela) >= 200.0:\n",
        "      print('\\nAmbiente resolvido em {:d} episódios!\\tMédia (últimos 100): {:.2f}'.format(i_episodio-100, np.mean(pontuacoes_janela)))\n",
        "      break\n",
        "\n",
        "  return pontuacoes\n",
        "\n",
        "# Treinamento do agente\n",
        "pontuacoes = treinar_agente()\n",
        "\n",
        "# Visualização do treinamento\n",
        "plt.plot(np.arange(len(pontuacoes)), pontuacoes)\n",
        "plt.ylabel('Pontuação')\n",
        "plt.xlabel('Episódio #')\n",
        "plt.show()"
      ],
      "metadata": {
        "colab": {
          "base_uri": "https://localhost:8080/",
          "height": 624
        },
        "id": "S_92hyTI5unN",
        "outputId": "5f620be6-8a43-478d-8be7-28b32cf8963a"
      },
      "execution_count": 32,
      "outputs": [
        {
          "output_type": "stream",
          "name": "stdout",
          "text": [
            "Episódio 100\tMédia (últimos 100): -153.57\n",
            "Episódio 200\tMédia (últimos 100): -70.60\n",
            "Episódio 300\tMédia (últimos 100): 1.26\n",
            "Episódio 400\tMédia (últimos 100): 16.07\n",
            "Episódio 500\tMédia (últimos 100): 44.63\n",
            "Episódio 600\tMédia (últimos 100): 55.07\n",
            "Episódio 700\tMédia (últimos 100): 50.77\n",
            "Episódio 800\tMédia (últimos 100): 68.02\n",
            "Episódio 900\tMédia (últimos 100): 71.42\n",
            "Episódio 1000\tMédia (últimos 100): 68.99\n"
          ]
        },
        {
          "output_type": "display_data",
          "data": {
            "text/plain": [
              "<Figure size 640x480 with 1 Axes>"
            ],
            "image/png": "[encoded data removed]"
          },
          "metadata": {}
        }
      ]
    },
    {
      "cell_type": "markdown",
      "source": [
        "Plotando Video"
      ],
      "metadata": {
        "id": "nYd4en9r30pN"
      }
    },
    {
      "cell_type": "code",
      "source": [
        "from gym.wrappers import RecordVideo\n",
        "\n",
        "# Criar o ambiente com modo de renderização 'rgb_array' e wrapper para gravação de vídeo\n",
        "env = gym.make('LunarLander-v2', render_mode='rgb_array')\n",
        "env = RecordVideo(env, \"videos/lunar-demo\", episode_trigger=lambda episode: True)\n",
        "\n",
        "# Criar um novo agente e carregar o modelo treinado\n",
        "agente = DQNAgent(tamanho_estado, tamanho_acao, seed=0)\n",
        "agente.rede_local.load_state_dict(torch.load('dqn_lunar_lander.pth'))\n",
        "\n",
        "# Rodar o agente no ambiente\n",
        "n_episodios = 5\n",
        "for i_episodio in range(n_episodios):\n",
        "    estado = env.reset()\n",
        "    while True:\n",
        "        acao = agente.act(estado, eps=0.0)\n",
        "        proximo_estado, recompensa, finalizado, _ = env.step(acao)\n",
        "        if finalizado:\n",
        "            break\n",
        "        estado = proximo_estado\n",
        "\n",
        "# Fechar o ambiente\n",
        "env.close()"
      ],
      "metadata": {
        "colab": {
          "base_uri": "https://localhost:8080/"
        },
        "id": "8SJQ2XwJkK8y",
        "outputId": "13540789-2680-4c82-d8ff-28a79e0a7ef0"
      },
      "execution_count": 36,
      "outputs": [
        {
          "output_type": "stream",
          "name": "stderr",
          "text": [
            "/usr/local/lib/python3.10/dist-packages/gym/core.py:317: DeprecationWarning: \u001b[33mWARN: Initializing wrapper in old step API which returns one bool instead of two. It is recommended to set `new_step_api=True` to use new step API. This will be the default behaviour in future.\u001b[0m\n",
            "  deprecation(\n",
            "/usr/local/lib/python3.10/dist-packages/gym/wrappers/step_api_compatibility.py:39: DeprecationWarning: \u001b[33mWARN: Initializing environment in old step API which returns one bool instead of two. It is recommended to set `new_step_api=True` to use new step API. This will be the default behaviour in future.\u001b[0m\n",
            "  deprecation(\n",
            "/usr/local/lib/python3.10/dist-packages/gym/utils/passive_env_checker.py:241: DeprecationWarning: `np.bool8` is a deprecated alias for `np.bool_`.  (Deprecated NumPy 1.24)\n",
            "  if not isinstance(terminated, (bool, np.bool8)):\n"
          ]
        }
      ]
    }
  ]
}